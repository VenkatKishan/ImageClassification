{
 "cells": [
  {
   "cell_type": "code",
   "execution_count": 3,
   "metadata": {
    "_cell_guid": "b1076dfc-b9ad-4769-8c92-a6c4dae69d19",
    "_uuid": "8f2839f25d086af736a60e9eeb907d3b93b6e0e5",
    "execution": {
     "iopub.execute_input": "2022-09-06T20:56:48.695289Z",
     "iopub.status.busy": "2022-09-06T20:56:48.694229Z",
     "iopub.status.idle": "2022-09-06T20:56:53.635834Z",
     "shell.execute_reply": "2022-09-06T20:56:53.634884Z",
     "shell.execute_reply.started": "2022-09-06T20:56:48.695249Z"
    }
   },
   "outputs": [],
   "source": [
    "# This Python 3 environment comes with many helpful analytics libraries installed\n",
    "# It is defined by the kaggle/python Docker image: https://github.com/kaggle/docker-python\n",
    "# For example, here's several helpful packages to load\n",
    "\n",
    "import numpy as np # linear algebra\n",
    "import pandas as pd # data processing, CSV file I/O (e.g. pd.read_csv)\n",
    "\n",
    "# Input data files are available in the read-only \"../input/\" directory\n",
    "# For example, running this (by clicking run or pressing Shift+Enter) will list all files under the input directory\n",
    "\n",
    "import os\n",
    "for dirname, _, filenames in os.walk('/kaggle/input'):\n",
    "    for filename in filenames:\n",
    "        print(os.path.join(dirname, filename))\n",
    "\n",
    "# You can write up to 20GB to the current directory (/kaggle/working/) that gets preserved as output when you create a version using \"Save & Run All\" \n",
    "# You can also write temporary files to /kaggle/temp/, but they won't be saved outside of the current session"
   ]
  },
  {
   "cell_type": "code",
   "execution_count": 4,
   "metadata": {
    "execution": {
     "iopub.execute_input": "2022-09-06T20:56:53.638144Z",
     "iopub.status.busy": "2022-09-06T20:56:53.637792Z",
     "iopub.status.idle": "2022-09-06T20:56:55.164934Z",
     "shell.execute_reply": "2022-09-06T20:56:55.163961Z",
     "shell.execute_reply.started": "2022-09-06T20:56:53.638108Z"
    }
   },
   "outputs": [],
   "source": [
    "import matplotlib.pyplot as plt\n",
    "import tensorflow as tf"
   ]
  },
  {
   "cell_type": "code",
   "execution_count": 5,
   "metadata": {
    "execution": {
     "iopub.execute_input": "2022-09-06T20:56:55.168442Z",
     "iopub.status.busy": "2022-09-06T20:56:55.167435Z",
     "iopub.status.idle": "2022-09-06T20:56:55.690195Z",
     "shell.execute_reply": "2022-09-06T20:56:55.689202Z",
     "shell.execute_reply.started": "2022-09-06T20:56:55.168403Z"
    }
   },
   "outputs": [],
   "source": [
    "from tensorflow.keras.models import Sequential\n",
    "from tensorflow.keras.layers import Dense, Flatten, Conv2D, MaxPooling2D, Dropout\n",
    "from tensorflow.keras.callbacks import EarlyStopping, ModelCheckpoint, ReduceLROnPlateau\n",
    "from tensorflow.keras.utils import image_dataset_from_directory\n",
    "from sklearn.model_selection import train_test_split"
   ]
  },
  {
   "cell_type": "code",
   "execution_count": 6,
   "metadata": {
    "execution": {
     "iopub.execute_input": "2022-09-06T20:56:55.693650Z",
     "iopub.status.busy": "2022-09-06T20:56:55.693229Z",
     "iopub.status.idle": "2022-09-06T20:56:55.698005Z",
     "shell.execute_reply": "2022-09-06T20:56:55.697002Z",
     "shell.execute_reply.started": "2022-09-06T20:56:55.693613Z"
    }
   },
   "outputs": [],
   "source": [
    "import warnings\n",
    "warnings.filterwarnings('ignore')"
   ]
  },
  {
   "cell_type": "code",
   "execution_count": 7,
   "metadata": {
    "execution": {
     "iopub.execute_input": "2022-09-06T20:56:55.700281Z",
     "iopub.status.busy": "2022-09-06T20:56:55.699603Z",
     "iopub.status.idle": "2022-09-06T20:56:55.708804Z",
     "shell.execute_reply": "2022-09-06T20:56:55.707737Z",
     "shell.execute_reply.started": "2022-09-06T20:56:55.700243Z"
    }
   },
   "outputs": [],
   "source": [
    "train_path= os.path.join('..','input','intel-image-classification','seg_train','seg_train')"
   ]
  },
  {
   "cell_type": "code",
   "execution_count": 8,
   "metadata": {
    "execution": {
     "iopub.execute_input": "2022-09-06T20:56:55.710426Z",
     "iopub.status.busy": "2022-09-06T20:56:55.710128Z",
     "iopub.status.idle": "2022-09-06T20:56:55.720125Z",
     "shell.execute_reply": "2022-09-06T20:56:55.719210Z",
     "shell.execute_reply.started": "2022-09-06T20:56:55.710401Z"
    }
   },
   "outputs": [],
   "source": [
    "test_path= os.path.join('..','input','intel-image-classification','seg_test','seg_test')"
   ]
  },
  {
   "cell_type": "code",
   "execution_count": 9,
   "metadata": {
    "execution": {
     "iopub.execute_input": "2022-09-06T20:56:55.723597Z",
     "iopub.status.busy": "2022-09-06T20:56:55.723262Z",
     "iopub.status.idle": "2022-09-06T20:56:57.851101Z",
     "shell.execute_reply": "2022-09-06T20:56:57.850033Z",
     "shell.execute_reply.started": "2022-09-06T20:56:55.723572Z"
    }
   },
   "outputs": [],
   "source": [
    "train_data= image_dataset_from_directory(train_path,image_size=(150,150),\n",
    "                                         label_mode='categorical',\n",
    "                                         batch_size=64)\n",
    "\n",
    "test_data = image_dataset_from_directory(test_path,image_size=(150,150),\n",
    "                                          label_mode='categorical',\n",
    "                                          batch_size=64)"
   ]
  },
  {
   "cell_type": "code",
   "execution_count": 10,
   "metadata": {
    "execution": {
     "iopub.execute_input": "2022-09-06T20:56:57.852765Z",
     "iopub.status.busy": "2022-09-06T20:56:57.852402Z",
     "iopub.status.idle": "2022-09-06T20:56:57.859481Z",
     "shell.execute_reply": "2022-09-06T20:56:57.858484Z",
     "shell.execute_reply.started": "2022-09-06T20:56:57.852729Z"
    }
   },
   "outputs": [],
   "source": [
    "print('Data Class Indicies:', test_data.class_names)"
   ]
  },
  {
   "cell_type": "code",
   "execution_count": 11,
   "metadata": {
    "execution": {
     "iopub.execute_input": "2022-09-06T20:56:57.862207Z",
     "iopub.status.busy": "2022-09-06T20:56:57.860928Z",
     "iopub.status.idle": "2022-09-06T20:57:00.976009Z",
     "shell.execute_reply": "2022-09-06T20:57:00.975017Z",
     "shell.execute_reply.started": "2022-09-06T20:56:57.862168Z"
    }
   },
   "outputs": [],
   "source": [
    "plt.figure(figsize=(15,13))\n",
    "\n",
    "class_names= train_data.class_names\n",
    "\n",
    "for images,labels in train_data.take(1):\n",
    "    for i in range(30):\n",
    "        ax=plt.subplot(6,6,i+1)\n",
    "        plt.imshow(images[i].numpy().astype('uint8'))\n",
    "        plt.title(class_names[np.argmax(labels[i])])\n",
    "        plt.axis('off')"
   ]
  },
  {
   "cell_type": "code",
   "execution_count": 21,
   "metadata": {
    "execution": {
     "iopub.execute_input": "2022-09-06T21:14:40.316055Z",
     "iopub.status.busy": "2022-09-06T21:14:40.315676Z",
     "iopub.status.idle": "2022-09-06T21:14:40.324511Z",
     "shell.execute_reply": "2022-09-06T21:14:40.323456Z",
     "shell.execute_reply.started": "2022-09-06T21:14:40.316024Z"
    }
   },
   "outputs": [],
   "source": [
    "early_stopping_monitor = EarlyStopping(monitor='val_accuracy', patience=5, restore_best_weights=True)\n",
    "\n",
    "reduce_lr_on_plateau = tf.keras.callbacks.ReduceLROnPlateau(monitor='val_accuracy', patience=5)\n",
    "\n",
    "best_model = ModelCheckpoint('bestmodel.hdf5', monitor='val_accuracy', save_best_only=True)"
   ]
  },
  {
   "cell_type": "code",
   "execution_count": 22,
   "metadata": {
    "execution": {
     "iopub.execute_input": "2022-09-06T21:14:44.530143Z",
     "iopub.status.busy": "2022-09-06T21:14:44.528961Z",
     "iopub.status.idle": "2022-09-06T21:14:44.635569Z",
     "shell.execute_reply": "2022-09-06T21:14:44.634645Z",
     "shell.execute_reply.started": "2022-09-06T21:14:44.530100Z"
    }
   },
   "outputs": [],
   "source": [
    "model = Sequential([\n",
    "    Conv2D(32, (3,3), activation='relu', padding='same', input_shape=(150,150,3)),\n",
    "    Conv2D(32, (3,3), activation='relu'),  \n",
    "    MaxPooling2D(2,2),\n",
    "    \n",
    "    Conv2D(32, (3,3), activation='relu'),\n",
    "    Conv2D(32, (3,3), activation='relu'),    \n",
    "    MaxPooling2D(2,2),\n",
    "    \n",
    "    Conv2D(32, (3,3), activation='relu'),    \n",
    "    Conv2D(32, (3,3), activation='relu'),\n",
    "    MaxPooling2D(2,2),\n",
    "    \n",
    "    Conv2D(32, (3,3), activation='relu'),\n",
    "    MaxPooling2D(2,2),\n",
    "    Flatten(),\n",
    "    \n",
    "    Dense(256, activation='relu'),\n",
    "    Dropout(0.2),\n",
    "    Dense(128, activation='relu'),\n",
    "    Dropout(0.2),\n",
    "    Dense(64, activation='relu'),\n",
    "    Dropout(0.2),\n",
    "    Dense(6, activation='softmax')\n",
    "])"
   ]
  },
  {
   "cell_type": "code",
   "execution_count": 23,
   "metadata": {
    "execution": {
     "iopub.execute_input": "2022-09-06T21:14:47.484744Z",
     "iopub.status.busy": "2022-09-06T21:14:47.484152Z",
     "iopub.status.idle": "2022-09-06T21:14:47.505988Z",
     "shell.execute_reply": "2022-09-06T21:14:47.505074Z",
     "shell.execute_reply.started": "2022-09-06T21:14:47.484702Z"
    }
   },
   "outputs": [],
   "source": [
    "model.compile(optimizer='adam', loss='categorical_crossentropy', metrics=['accuracy'])\n",
    "model.summary()"
   ]
  },
  {
   "cell_type": "code",
   "execution_count": 24,
   "metadata": {
    "execution": {
     "iopub.execute_input": "2022-09-06T21:14:49.839371Z",
     "iopub.status.busy": "2022-09-06T21:14:49.838694Z",
     "iopub.status.idle": "2022-09-06T21:19:36.629226Z",
     "shell.execute_reply": "2022-09-06T21:19:36.628285Z",
     "shell.execute_reply.started": "2022-09-06T21:14:49.839320Z"
    }
   },
   "outputs": [],
   "source": [
    "model.fit(train_data, validation_data= test_data, epochs=30, \n",
    "         callbacks=[best_model, reduce_lr_on_plateau, early_stopping_monitor])"
   ]
  },
  {
   "cell_type": "code",
   "execution_count": null,
   "metadata": {},
   "outputs": [],
   "source": []
  },
  {
   "cell_type": "code",
   "execution_count": 25,
   "metadata": {
    "execution": {
     "iopub.execute_input": "2022-09-06T21:19:45.094944Z",
     "iopub.status.busy": "2022-09-06T21:19:45.094247Z",
     "iopub.status.idle": "2022-09-06T21:20:01.912609Z",
     "shell.execute_reply": "2022-09-06T21:20:01.911696Z",
     "shell.execute_reply.started": "2022-09-06T21:19:45.094908Z"
    }
   },
   "outputs": [],
   "source": [
    "# accuracy of the model\n",
    "\n",
    "plt.figure(figsize=(12, 6))\n",
    "plt.plot(model.history.history[\"accuracy\"])\n",
    "plt.plot(model.history.history[\"val_accuracy\"])\n",
    "plt.xlabel(\"Epochs\")\n",
    "plt.ylabel(\"Accuracy\")\n",
    "plt.title(\"ACCURACY OF MODEL\")\n",
    "plt.legend(['training_accuracy', 'validation_accuracy'])\n",
    "plt.show()"
   ]
  },
  {
   "cell_type": "code",
   "execution_count": 26,
   "metadata": {
    "execution": {
     "iopub.execute_input": "2022-09-06T21:20:20.492213Z",
     "iopub.status.busy": "2022-09-06T21:20:20.491840Z",
     "iopub.status.idle": "2022-09-06T21:20:20.712179Z",
     "shell.execute_reply": "2022-09-06T21:20:20.711232Z",
     "shell.execute_reply.started": "2022-09-06T21:20:20.492183Z"
    }
   },
   "outputs": [],
   "source": [
    "# loss of the model\n",
    "plt.figure(figsize=(12, 6))\n",
    "plt.plot(model.history.history[\"loss\"])\n",
    "plt.plot(model.history.history[\"val_loss\"])\n",
    "plt.xlabel(\"Epochs\")\n",
    "plt.ylabel(\"Loss\")\n",
    "plt.title(\"LOSS OF MODEL\")\n",
    "plt.legend(['training_loss', 'validation_loss'])\n",
    "plt.show()"
   ]
  },
  {
   "cell_type": "code",
   "execution_count": 27,
   "metadata": {
    "execution": {
     "iopub.execute_input": "2022-09-06T21:20:30.737380Z",
     "iopub.status.busy": "2022-09-06T21:20:30.736447Z",
     "iopub.status.idle": "2022-09-06T21:20:33.559225Z",
     "shell.execute_reply": "2022-09-06T21:20:33.558384Z",
     "shell.execute_reply.started": "2022-09-06T21:20:30.737306Z"
    }
   },
   "outputs": [],
   "source": [
    "model.load_weights('bestmodel.hdf5')\n",
    "model.evaluate(test_data);"
   ]
  },
  {
   "cell_type": "code",
   "execution_count": 28,
   "metadata": {
    "execution": {
     "iopub.execute_input": "2022-09-06T21:21:24.507291Z",
     "iopub.status.busy": "2022-09-06T21:21:24.506372Z",
     "iopub.status.idle": "2022-09-06T21:21:29.400105Z",
     "shell.execute_reply": "2022-09-06T21:21:29.399006Z",
     "shell.execute_reply.started": "2022-09-06T21:21:24.507243Z"
    }
   },
   "outputs": [],
   "source": [
    "#Visualize 30 of the predicted data with green label for correct predictions\n",
    "#and red label vise versa.\n",
    "plt.figure(figsize=(15,15))\n",
    "for images, labels in test_data.take(2):\n",
    "    for i in range(35):\n",
    "        prediction = model.predict(images[i].numpy().reshape(1,150,150,3))\n",
    "        plt.subplot(7, 7, i+1)\n",
    "        plt.xticks([])\n",
    "        plt.yticks([])\n",
    "        plt.imshow(images[i].numpy().astype(\"uint8\"))\n",
    "        plt.grid(False)\n",
    "        xlabel = plt.xlabel(class_names[prediction.argmax()])\n",
    "        if (prediction.argmax() == labels[i].numpy().argmax()):\n",
    "            xlabel.set_color(\"green\")\n",
    "        else:\n",
    "            xlabel.set_color(\"red\")\n",
    "plt.show()"
   ]
  },
  {
   "cell_type": "code",
   "execution_count": null,
   "metadata": {},
   "outputs": [],
   "source": []
  }
 ],
 "metadata": {
  "kernelspec": {
   "display_name": "Python 3 (ipykernel)",
   "language": "python",
   "name": "python3"
  },
  "language_info": {
   "codemirror_mode": {
    "name": "ipython",
    "version": 3
   },
   "file_extension": ".py",
   "mimetype": "text/x-python",
   "name": "python",
   "nbconvert_exporter": "python",
   "pygments_lexer": "ipython3",
   "version": "3.10.4"
  }
 },
 "nbformat": 4,
 "nbformat_minor": 4
}
